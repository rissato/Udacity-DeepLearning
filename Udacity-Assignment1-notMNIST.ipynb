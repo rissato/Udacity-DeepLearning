{
 "cells": [
  {
   "cell_type": "code",
   "execution_count": 3,
   "metadata": {
    "collapsed": false
   },
   "outputs": [],
   "source": [
    "# These are all the modules we'll be using later. Make sure you can import them\n",
    "# before proceeding further.\n",
    "from __future__ import print_function\n",
    "import imageio\n",
    "import matplotlib.pyplot as plt\n",
    "import numpy as np\n",
    "import os\n",
    "import sys\n",
    "import tarfile\n",
    "from IPython.display import display, Image\n",
    "from sklearn.linear_model import LogisticRegression\n",
    "from six.moves.urllib.request import urlretrieve\n",
    "from six.moves import cPickle as pickle\n",
    "from matplotlib.colors import ListedColormap\n",
    "\n",
    "# Config the matplotlib backend as plotting inline in IPython\n",
    "%matplotlib inline\n"
   ]
  },
  {
   "cell_type": "code",
   "execution_count": 4,
   "metadata": {
    "collapsed": false
   },
   "outputs": [
    {
     "name": "stdout",
     "output_type": "stream",
     "text": [
      "Found and verified ./notMNIST_large.tar.gz\n",
      "Found and verified ./notMNIST_small.tar.gz\n"
     ]
    }
   ],
   "source": [
    "url = 'https://commondatastorage.googleapis.com/books1000/'\n",
    "last_percent_reported = None\n",
    "data_root = '.' # Change me to store data elsewhere\n",
    "\n",
    "def download_progress_hook(count, blockSize, totalSize):\n",
    "  \"\"\"A hook to report the progress of a download. This is mostly intended for users with\n",
    "  slow internet connections. Reports every 5% change in download progress.\n",
    "  \"\"\"\n",
    "  global last_percent_reported\n",
    "  percent = int(count * blockSize * 100 / totalSize)\n",
    "\n",
    "  if last_percent_reported != percent:\n",
    "    if percent % 5 == 0:\n",
    "      sys.stdout.write(\"%s%%\" % percent)\n",
    "      sys.stdout.flush()\n",
    "    else:\n",
    "      sys.stdout.write(\".\")\n",
    "      sys.stdout.flush()\n",
    "      \n",
    "    last_percent_reported = percent\n",
    "        \n",
    "def maybe_download(filename, expected_bytes, force=False):\n",
    "  \"\"\"Download a file if not present, and make sure it's the right size.\"\"\"\n",
    "  dest_filename = os.path.join(data_root, filename)\n",
    "  if force or not os.path.exists(dest_filename):\n",
    "    print('Attempting to download:', filename) \n",
    "    filename, _ = urlretrieve(url + filename, dest_filename, reporthook=download_progress_hook)\n",
    "    print('\\nDownload Complete!')\n",
    "  statinfo = os.stat(dest_filename)\n",
    "  if statinfo.st_size == expected_bytes:\n",
    "    print('Found and verified', dest_filename)\n",
    "  else:\n",
    "    raise Exception(\n",
    "      'Failed to verify ' + dest_filename + '. Can you get to it with a browser?')\n",
    "  return dest_filename\n",
    "\n",
    "train_filename = maybe_download('notMNIST_large.tar.gz', 247336696)\n",
    "test_filename = maybe_download('notMNIST_small.tar.gz', 8458043)"
   ]
  },
  {
   "cell_type": "code",
   "execution_count": 5,
   "metadata": {
    "collapsed": false,
    "scrolled": true
   },
   "outputs": [
    {
     "name": "stdout",
     "output_type": "stream",
     "text": [
      "./notMNIST_large already present - Skipping extraction of ./notMNIST_large.tar.gz.\n",
      "['./notMNIST_large/A', './notMNIST_large/B', './notMNIST_large/C', './notMNIST_large/D', './notMNIST_large/E', './notMNIST_large/F', './notMNIST_large/G', './notMNIST_large/H', './notMNIST_large/I', './notMNIST_large/J']\n",
      "./notMNIST_small already present - Skipping extraction of ./notMNIST_small.tar.gz.\n",
      "['./notMNIST_small/A', './notMNIST_small/B', './notMNIST_small/C', './notMNIST_small/D', './notMNIST_small/E', './notMNIST_small/F', './notMNIST_small/G', './notMNIST_small/H', './notMNIST_small/I', './notMNIST_small/J']\n"
     ]
    }
   ],
   "source": [
    "num_classes = 10\n",
    "np.random.seed(133)\n",
    "\n",
    "def maybe_extract(filename, force=False):\n",
    "  root = os.path.splitext(os.path.splitext(filename)[0])[0]  # remove .tar.gz\n",
    "  if os.path.isdir(root) and not force:\n",
    "    # You may override by setting force=True.\n",
    "    print('%s already present - Skipping extraction of %s.' % (root, filename))\n",
    "  else:\n",
    "    print('Extracting data for %s. This may take a while. Please wait.' % root)\n",
    "    tar = tarfile.open(filename)\n",
    "    sys.stdout.flush()\n",
    "    tar.extractall(data_root)\n",
    "    tar.close()\n",
    "  data_folders = [\n",
    "    os.path.join(root, d) for d in sorted(os.listdir(root))\n",
    "    if os.path.isdir(os.path.join(root, d))]\n",
    "  if len(data_folders) != num_classes:\n",
    "    raise Exception(\n",
    "      'Expected %d folders, one per class. Found %d instead.' % (\n",
    "        num_classes, len(data_folders)))\n",
    "  print(data_folders)\n",
    "  return data_folders\n",
    "  \n",
    "train_folders = maybe_extract(train_filename)\n",
    "test_folders = maybe_extract(test_filename)"
   ]
  },
  {
   "cell_type": "markdown",
   "metadata": {},
   "source": [
    "Problem 1:\n",
    "---------\n",
    "\n",
    "Now let's display some images from different classes to make sure they look fine in the expexted folder structure.\n"
   ]
  },
  {
   "cell_type": "code",
   "execution_count": 8,
   "metadata": {
    "collapsed": false,
    "scrolled": true
   },
   "outputs": [
    {
     "data": {
      "image/png": "[encoded data removed]",
      "text/plain": [
       "<IPython.core.display.Image object>"
      ]
     },
     "metadata": {},
     "output_type": "display_data"
    },
    {
     "data": {
      "image/png": "[encoded data removed]",
      "text/plain": [
       "<IPython.core.display.Image object>"
      ]
     },
     "metadata": {},
     "output_type": "display_data"
    },
    {
     "data": {
      "image/png": "[encoded data removed]",
      "text/plain": [
       "<IPython.core.display.Image object>"
      ]
     },
     "metadata": {},
     "output_type": "display_data"
    },
    {
     "data": {
      "image/png": "[encoded data removed]",
      "text/plain": [
       "<IPython.core.display.Image object>"
      ]
     },
     "metadata": {},
     "output_type": "display_data"
    },
    {
     "data": {
      "image/png": "[encoded data removed]",
      "text/plain": [
       "<IPython.core.display.Image object>"
      ]
     },
     "metadata": {},
     "output_type": "display_data"
    },
    {
     "data": {
      "image/png": "[encoded data removed]",
      "text/plain": [
       "<IPython.core.display.Image object>"
      ]
     },
     "metadata": {},
     "output_type": "display_data"
    },
    {
     "data": {
      "image/png": "[encoded data removed]",
      "text/plain": [
       "<IPython.core.display.Image object>"
      ]
     },
     "metadata": {},
     "output_type": "display_data"
    },
    {
     "data": {
      "image/png": "[encoded data removed]",
      "text/plain": [
       "<IPython.core.display.Image object>"
      ]
     },
     "metadata": {},
     "output_type": "display_data"
    },
    {
     "data": {
      "image/png": "[encoded data removed]",
      "text/plain": [
       "<IPython.core.display.Image object>"
      ]
     },
     "metadata": {},
     "output_type": "display_data"
    },
    {
     "data": {
      "image/png": "[encoded data removed]",
      "text/plain": [
       "<IPython.core.display.Image object>"
      ]
     },
     "metadata": {},
     "output_type": "display_data"
    }
   ],
   "source": [
    "from IPython.display import display, Image\n",
    "display(Image(filename=\"notMNIST_small/A/Q0NXaWxkV29yZHMtQm9sZEl0YWxpYy50dGY=.png\"))\n",
    "display(Image(filename=\"notMNIST_small/B/MTFTMDEgQmxhY2sgVHVlc2RheSBPZmZzZXQudHRm.png\"))\n",
    "display(Image(filename=\"notMNIST_small/C/Q0cgT21lZ2EudHRm.png\"))\n",
    "display(Image(filename=\"notMNIST_small/D/MTIgV2FsYmF1bSBJdGFsaWMgMTMyNjMudHRm.png\"))\n",
    "display(Image(filename=\"notMNIST_small/E/OEJhbGxTY3JpcHRTQ2Fwc1NTSyBJdGFsaWMudHRm.png\"))\n",
    "display(Image(filename=\"notMNIST_large/F/aG9uZXkgQm9sZC50dGY=.png\"))\n",
    "display(Image(filename=\"notMNIST_large/G/a3JvZWdlciAwNl82Ni50dGY=.png\"))\n",
    "display(Image(filename=\"notMNIST_large/H/a3JvZWdlciAwNF82NS50dGY=.png\"))\n",
    "display(Image(filename=\"notMNIST_large/I/a3JvZWdlciAwNl81Ni50dGY=.png\"))\n",
    "display(Image(filename=\"notMNIST_large/J/a3JvZWdlciAwNl82NS50dGY=.png\"))\n"
   ]
  },
  {
   "cell_type": "markdown",
   "metadata": {},
   "source": [
    "The images look ok. Was able to print images from 10 different folders."
   ]
  },
  {
   "cell_type": "code",
   "execution_count": 6,
   "metadata": {
    "collapsed": false
   },
   "outputs": [
    {
     "name": "stdout",
     "output_type": "stream",
     "text": [
      "./notMNIST_large/A.pickle already present - Skipping pickling.\n",
      "./notMNIST_large/B.pickle already present - Skipping pickling.\n",
      "./notMNIST_large/C.pickle already present - Skipping pickling.\n",
      "./notMNIST_large/D.pickle already present - Skipping pickling.\n",
      "./notMNIST_large/E.pickle already present - Skipping pickling.\n",
      "./notMNIST_large/F.pickle already present - Skipping pickling.\n",
      "./notMNIST_large/G.pickle already present - Skipping pickling.\n",
      "./notMNIST_large/H.pickle already present - Skipping pickling.\n",
      "./notMNIST_large/I.pickle already present - Skipping pickling.\n",
      "./notMNIST_large/J.pickle already present - Skipping pickling.\n",
      "./notMNIST_small/A.pickle already present - Skipping pickling.\n",
      "./notMNIST_small/B.pickle already present - Skipping pickling.\n",
      "./notMNIST_small/C.pickle already present - Skipping pickling.\n",
      "./notMNIST_small/D.pickle already present - Skipping pickling.\n",
      "./notMNIST_small/E.pickle already present - Skipping pickling.\n",
      "./notMNIST_small/F.pickle already present - Skipping pickling.\n",
      "./notMNIST_small/G.pickle already present - Skipping pickling.\n",
      "./notMNIST_small/H.pickle already present - Skipping pickling.\n",
      "./notMNIST_small/I.pickle already present - Skipping pickling.\n",
      "./notMNIST_small/J.pickle already present - Skipping pickling.\n"
     ]
    }
   ],
   "source": [
    "image_size = 28  # Pixel width and height.\n",
    "pixel_depth = 255.0  # Number of levels per pixel.\n",
    "\n",
    "def load_letter(folder, min_num_images):\n",
    "  \"\"\"Load the data for a single letter label.\"\"\"\n",
    "  image_files = os.listdir(folder)\n",
    "  dataset = np.ndarray(shape=(len(image_files), image_size, image_size),\n",
    "                         dtype=np.float32)\n",
    "  print(folder)\n",
    "  num_images = 0\n",
    "  for image in image_files:\n",
    "    image_file = os.path.join(folder, image)\n",
    "    try:\n",
    "      image_data = (imageio.imread(image_file).astype(float) - \n",
    "                    pixel_depth / 2) / pixel_depth\n",
    "      if image_data.shape != (image_size, image_size):\n",
    "        raise Exception('Unexpected image shape: %s' % str(image_data.shape))\n",
    "      dataset[num_images, :, :] = image_data\n",
    "      num_images = num_images + 1\n",
    "    except (IOError, ValueError) as e:\n",
    "      print('Could not read:', image_file, ':', e, '- it\\'s ok, skipping.')\n",
    "    \n",
    "  dataset = dataset[0:num_images, :, :]\n",
    "  if num_images < min_num_images:\n",
    "    raise Exception('Many fewer images than expected: %d < %d' %\n",
    "                    (num_images, min_num_images))\n",
    "    \n",
    "  print('Full dataset tensor:', dataset.shape)\n",
    "  print('Mean:', np.mean(dataset))\n",
    "  print('Standard deviation:', np.std(dataset))\n",
    "  return dataset\n",
    "        \n",
    "def maybe_pickle(data_folders, min_num_images_per_class, force=False):\n",
    "  dataset_names = []\n",
    "  for folder in data_folders:\n",
    "    set_filename = folder + '.pickle'\n",
    "    dataset_names.append(set_filename)\n",
    "    if os.path.exists(set_filename) and not force:\n",
    "      # You may override by setting force=True.\n",
    "      print('%s already present - Skipping pickling.' % set_filename)\n",
    "    else:\n",
    "      print('Pickling %s.' % set_filename)\n",
    "      dataset = load_letter(folder, min_num_images_per_class)\n",
    "      try:\n",
    "        with open(set_filename, 'wb') as f:\n",
    "          pickle.dump(dataset, f, pickle.HIGHEST_PROTOCOL)\n",
    "      except Exception as e:\n",
    "        print('Unable to save data to', set_filename, ':', e)\n",
    "  \n",
    "  return dataset_names\n",
    "\n",
    "train_datasets = maybe_pickle(train_folders, 45000)\n",
    "test_datasets = maybe_pickle(test_folders, 1800)"
   ]
  },
  {
   "cell_type": "markdown",
   "metadata": {
    "collapsed": true
   },
   "source": [
    "Problem 2\n",
    "--------\n",
    "\n",
    "Now let's display the data by reading it from the pickle files. It should look a little different because they were normalized to have zero mean and equal variance."
   ]
  },
  {
   "cell_type": "code",
   "execution_count": 10,
   "metadata": {
    "collapsed": false
   },
   "outputs": [
    {
     "data": {
      "image/png": "[encoded data removed]",
      "text/plain": [
       "<matplotlib.figure.Figure at 0x118739128>"
      ]
     },
     "metadata": {},
     "output_type": "display_data"
    },
    {
     "data": {
      "image/png": "[encoded data removed]",
      "text/plain": [
       "<matplotlib.figure.Figure at 0x1192b9278>"
      ]
     },
     "metadata": {},
     "output_type": "display_data"
    }
   ],
   "source": [
    "pickle_file = train_datasets[0] #All A's from dataset\n",
    "with open(pickle_file, 'rb') as f:\n",
    "    letter_set = pickle.load(f)  # unpickle\n",
    "    sample_idx = np.random.randint(len(letter_set))  # pick a random image index\n",
    "    sample_image = letter_set[sample_idx, :, :]  # extract a 2D slice\n",
    "    #print(sample_image) Unncomment here if you want to see the numbers that will render the image\n",
    "    plt.figure()\n",
    "    plt.imshow(sample_image)  # display it\n",
    "\n",
    "\n",
    "pickle_file = train_datasets[1] #All B's from dataset\n",
    "with open(pickle_file, 'rb') as f:\n",
    "    letter_set = pickle.load(f)  # unpickle\n",
    "    sample_idx = np.random.randint(len(letter_set))  # pick a random image index\n",
    "    sample_image = letter_set[sample_idx, :, :]  # extract a 2D slice\n",
    "    #print(sample_image) Unncomment here if you want to see the numbers that will render the image\n",
    "    plt.figure()\n",
    "    cmap = ListedColormap(['b', 'g', 'r'])\n",
    "    plt.imshow(sample_image, cmap=cmap)  # display it with a different color map\n"
   ]
  },
  {
   "cell_type": "markdown",
   "metadata": {},
   "source": [
    "This looks ok, were able to print the images after storing it in arrays. Also changed the colormap on the B to mess around with the API."
   ]
  },
  {
   "cell_type": "markdown",
   "metadata": {
    "collapsed": true
   },
   "source": [
    "Problem 3\n",
    "--------\n",
    "To check for balance data I will count the totals for each dataset. I will simply display how many records in each dataset."
   ]
  },
  {
   "cell_type": "code",
   "execution_count": 11,
   "metadata": {
    "collapsed": false
   },
   "outputs": [
    {
     "name": "stdout",
     "output_type": "stream",
     "text": [
      "Class 0 contains 52909\n",
      "Class 1 contains 52911\n",
      "Class 2 contains 52912\n",
      "Class 3 contains 52911\n",
      "Class 4 contains 52912\n",
      "Class 5 contains 52912\n",
      "Class 6 contains 52912\n",
      "Class 7 contains 52912\n",
      "Class 8 contains 52912\n",
      "Class 9 contains 52911\n"
     ]
    }
   ],
   "source": [
    "for label, pickle_file in enumerate(train_datasets):\n",
    "  with open(pickle_file, 'rb') as f:\n",
    "        letter_set = pickle.load(f)\n",
    "        set_size = len(letter_set)\n",
    "  print(\"Class \" + str(label) + \" contains \"+ str(set_size))\n",
    "    "
   ]
  },
  {
   "cell_type": "markdown",
   "metadata": {},
   "source": [
    "That's balanced enough for me. Let's move on."
   ]
  },
  {
   "cell_type": "markdown",
   "metadata": {},
   "source": [
    "Merge and prune the training data as needed. Depending on your computer setup, you might not be able to fit it all in memory, and you can tune train_size as needed. The labels will be stored into a separate array of integers 0 through 9.\n",
    "\n",
    "Also create a validation dataset for hyperparameter tuning."
   ]
  },
  {
   "cell_type": "code",
   "execution_count": 12,
   "metadata": {
    "collapsed": false
   },
   "outputs": [
    {
     "name": "stdout",
     "output_type": "stream",
     "text": [
      "Training: (200000, 28, 28) (200000,)\n",
      "Validation: (10000, 28, 28) (10000,)\n",
      "Testing: (10000, 28, 28) (10000,)\n"
     ]
    }
   ],
   "source": [
    "def make_arrays(nb_rows, img_size):\n",
    "  if nb_rows:\n",
    "    dataset = np.ndarray((nb_rows, img_size, img_size), dtype=np.float32)\n",
    "    labels = np.ndarray(nb_rows, dtype=np.int32)\n",
    "  else:\n",
    "    dataset, labels = None, None\n",
    "  return dataset, labels\n",
    "\n",
    "def merge_datasets(pickle_files, train_size, valid_size=0):\n",
    "  num_classes = len(pickle_files)\n",
    "  valid_dataset, valid_labels = make_arrays(valid_size, image_size)\n",
    "  train_dataset, train_labels = make_arrays(train_size, image_size)\n",
    "  vsize_per_class = valid_size // num_classes\n",
    "  tsize_per_class = train_size // num_classes\n",
    "    \n",
    "  start_v, start_t = 0, 0\n",
    "  end_v, end_t = vsize_per_class, tsize_per_class\n",
    "  end_l = vsize_per_class+tsize_per_class\n",
    "  for label, pickle_file in enumerate(pickle_files):       \n",
    "    try:\n",
    "      with open(pickle_file, 'rb') as f:\n",
    "        letter_set = pickle.load(f)\n",
    "        # let's shuffle the letters to have random validation and training set\n",
    "        np.random.shuffle(letter_set)\n",
    "        if valid_dataset is not None:\n",
    "          valid_letter = letter_set[:vsize_per_class, :, :]\n",
    "          valid_dataset[start_v:end_v, :, :] = valid_letter\n",
    "          valid_labels[start_v:end_v] = label\n",
    "          start_v += vsize_per_class\n",
    "          end_v += vsize_per_class\n",
    "                    \n",
    "        train_letter = letter_set[vsize_per_class:end_l, :, :]\n",
    "        train_dataset[start_t:end_t, :, :] = train_letter\n",
    "        train_labels[start_t:end_t] = label\n",
    "        start_t += tsize_per_class\n",
    "        end_t += tsize_per_class\n",
    "    except Exception as e:\n",
    "      print('Unable to process data from', pickle_file, ':', e)\n",
    "      raise\n",
    "    \n",
    "  return valid_dataset, valid_labels, train_dataset, train_labels\n",
    "            \n",
    "            \n",
    "train_size = 200000\n",
    "valid_size = 10000\n",
    "test_size = 10000\n",
    "\n",
    "valid_dataset, valid_labels, train_dataset, train_labels = merge_datasets(\n",
    "  train_datasets, train_size, valid_size)\n",
    "_, _, test_dataset, test_labels = merge_datasets(test_datasets, test_size)\n",
    "\n",
    "print('Training:', train_dataset.shape, train_labels.shape)\n",
    "print('Validation:', valid_dataset.shape, valid_labels.shape)\n",
    "print('Testing:', test_dataset.shape, test_labels.shape)"
   ]
  },
  {
   "cell_type": "markdown",
   "metadata": {},
   "source": [
    "Next, we'll randomize the data. It's important to have the labels well shuffled for the training and test distributions to match."
   ]
  },
  {
   "cell_type": "code",
   "execution_count": 13,
   "metadata": {
    "collapsed": true
   },
   "outputs": [],
   "source": [
    "def randomize(dataset, labels):\n",
    "  permutation = np.random.permutation(labels.shape[0])\n",
    "  shuffled_dataset = dataset[permutation,:,:]\n",
    "  shuffled_labels = labels[permutation]\n",
    "  return shuffled_dataset, shuffled_labels\n",
    "train_dataset, train_labels = randomize(train_dataset, train_labels)\n",
    "test_dataset, test_labels = randomize(test_dataset, test_labels)\n",
    "valid_dataset, valid_labels = randomize(valid_dataset, valid_labels)"
   ]
  },
  {
   "cell_type": "markdown",
   "metadata": {},
   "source": [
    "Problem 4\n",
    "--------\n",
    "\n",
    "Convince yourself that the data is still good after shuffling!"
   ]
  },
  {
   "cell_type": "markdown",
   "metadata": {},
   "source": [
    "Let's count the data again per class per dataset:"
   ]
  },
  {
   "cell_type": "code",
   "execution_count": 14,
   "metadata": {
    "collapsed": false
   },
   "outputs": [
    {
     "name": "stdout",
     "output_type": "stream",
     "text": [
      "Number of records with label 0 in train: 20000\n",
      "Number of records with label 1 in train: 20000\n",
      "Number of records with label 2 in train: 20000\n",
      "Number of records with label 3 in train: 20000\n",
      "Number of records with label 4 in train: 20000\n",
      "Number of records with label 5 in train: 20000\n",
      "Number of records with label 6 in train: 20000\n",
      "Number of records with label 7 in train: 20000\n",
      "Number of records with label 8 in train: 20000\n",
      "Number of records with label 9 in train: 20000\n",
      "Number of records with label 0 in test: 1000\n",
      "Number of records with label 1 in test: 1000\n",
      "Number of records with label 2 in test: 1000\n",
      "Number of records with label 3 in test: 1000\n",
      "Number of records with label 4 in test: 1000\n",
      "Number of records with label 5 in test: 1000\n",
      "Number of records with label 6 in test: 1000\n",
      "Number of records with label 7 in test: 1000\n",
      "Number of records with label 8 in test: 1000\n",
      "Number of records with label 9 in test: 1000\n",
      "Number of records with label 0 in valid: 1000\n",
      "Number of records with label 1 in valid: 1000\n",
      "Number of records with label 2 in valid: 1000\n",
      "Number of records with label 3 in valid: 1000\n",
      "Number of records with label 4 in valid: 1000\n",
      "Number of records with label 5 in valid: 1000\n",
      "Number of records with label 6 in valid: 1000\n",
      "Number of records with label 7 in valid: 1000\n",
      "Number of records with label 8 in valid: 1000\n",
      "Number of records with label 9 in valid: 1000\n"
     ]
    }
   ],
   "source": [
    "for x in range(0, 10):\n",
    "  print('Number of records with label ' + str(x) + ' in train: ' +str(len(train_labels[train_labels==x])))\n",
    "\n",
    "for x in range(0, 10):\n",
    "  print('Number of records with label ' + str(x) + ' in test: ' +str(len(test_labels[test_labels==x])))\n",
    "\n",
    "for x in range(0, 10):\n",
    "  print('Number of records with label ' + str(x) + ' in valid: ' +str(len(valid_labels[valid_labels==x])))\n",
    "\n",
    "\n"
   ]
  },
  {
   "cell_type": "markdown",
   "metadata": {},
   "source": [
    "Now let's try and print one image from each class from the training set to make sure randomization is keeping the labels associated with the correct images."
   ]
  },
  {
   "cell_type": "code",
   "execution_count": 15,
   "metadata": {
    "collapsed": false
   },
   "outputs": [
    {
     "name": "stdout",
     "output_type": "stream",
     "text": [
      "First 0 found at 12\n",
      "First 1 found at 13\n",
      "First 2 found at 3\n",
      "First 3 found at 5\n",
      "First 4 found at 0\n",
      "First 5 found at 6\n",
      "First 6 found at 2\n",
      "First 7 found at 4\n",
      "First 8 found at 14\n",
      "First 9 found at 1\n"
     ]
    },
    {
     "data": {
      "image/png": "[encoded data removed]",
      "text/plain": [
       "<matplotlib.figure.Figure at 0x119bcb048>"
      ]
     },
     "metadata": {},
     "output_type": "display_data"
    },
    {
     "data": {
      "image/png": "[encoded data removed]",
      "text/plain": [
       "<matplotlib.figure.Figure at 0x119e07ef0>"
      ]
     },
     "metadata": {},
     "output_type": "display_data"
    },
    {
     "data": {
      "image/png": "[encoded data removed]",
      "text/plain": [
       "<matplotlib.figure.Figure at 0x1155d6400>"
      ]
     },
     "metadata": {},
     "output_type": "display_data"
    },
    {
     "data": {
      "image/png": "[encoded data removed]",
      "text/plain": [
       "<matplotlib.figure.Figure at 0x119f83198>"
      ]
     },
     "metadata": {},
     "output_type": "display_data"
    },
    {
     "data": {
      "image/png": "[encoded data removed]",
      "text/plain": [
       "<matplotlib.figure.Figure at 0x1192a8320>"
      ]
     },
     "metadata": {},
     "output_type": "display_data"
    },
    {
     "data": {
      "image/png": "[encoded data removed]",
      "text/plain": [
       "<matplotlib.figure.Figure at 0x119b7e5f8>"
      ]
     },
     "metadata": {},
     "output_type": "display_data"
    },
    {
     "data": {
      "image/png": "[encoded data removed]",
      "text/plain": [
       "<matplotlib.figure.Figure at 0x119b849b0>"
      ]
     },
     "metadata": {},
     "output_type": "display_data"
    },
    {
     "data": {
      "image/png": "[encoded data removed]",
      "text/plain": [
       "<matplotlib.figure.Figure at 0x119236358>"
      ]
     },
     "metadata": {},
     "output_type": "display_data"
    },
    {
     "data": {
      "image/png": "[encoded data removed]",
      "text/plain": [
       "<matplotlib.figure.Figure at 0x11936f080>"
      ]
     },
     "metadata": {},
     "output_type": "display_data"
    },
    {
     "data": {
      "image/png": "[encoded data removed]",
      "text/plain": [
       "<matplotlib.figure.Figure at 0x1194bf748>"
      ]
     },
     "metadata": {},
     "output_type": "display_data"
    }
   ],
   "source": [
    "for x in range(0, 10):\n",
    "    #print(train_labels)\n",
    "    indexes = np.where(train_labels==x)\n",
    "    print('First '+ str(x) + ' found at ' + str(indexes[0][0]))\n",
    "    sample_image = train_dataset[indexes[0][0], :, :]\n",
    "    plt.figure()\n",
    "    plt.imshow(sample_image)  # display it\n"
   ]
  },
  {
   "cell_type": "markdown",
   "metadata": {},
   "source": [
    "That seems good enough.\n",
    "\n",
    "\n",
    "Finally, let's save the data for later reuse:\n"
   ]
  },
  {
   "cell_type": "code",
   "execution_count": 16,
   "metadata": {
    "collapsed": false
   },
   "outputs": [
    {
     "name": "stdout",
     "output_type": "stream",
     "text": [
      "Compressed pickle size: 690800506\n"
     ]
    }
   ],
   "source": [
    "pickle_file = os.path.join(data_root, 'notMNIST.pickle')\n",
    "\n",
    "try:\n",
    "  f = open(pickle_file, 'wb')\n",
    "  save = {\n",
    "    'train_dataset': train_dataset,\n",
    "    'train_labels': train_labels,\n",
    "    'valid_dataset': valid_dataset,\n",
    "    'valid_labels': valid_labels,\n",
    "    'test_dataset': test_dataset,\n",
    "    'test_labels': test_labels,\n",
    "    }\n",
    "  pickle.dump(save, f, pickle.HIGHEST_PROTOCOL)\n",
    "  f.close()\n",
    "except Exception as e:\n",
    "  print('Unable to save data to', pickle_file, ':', e)\n",
    "  raise\n",
    "\n",
    "statinfo = os.stat(pickle_file)\n",
    "print('Compressed pickle size:', statinfo.st_size)\n",
    "\n"
   ]
  },
  {
   "cell_type": "markdown",
   "metadata": {
    "collapsed": true
   },
   "source": [
    "Problem 5\n",
    "=====\n",
    "\n",
    "By construction, this dataset might contain a lot of overlapping samples, including training data that's also contained in the validation and test set! Overlap between training and test can skew the results if you expect to use your model in an environment where there is never an overlap, but are actually ok if you expect to see training samples recur when you use it. Measure how much overlap there is between training, validation and test samples.\n"
   ]
  },
  {
   "cell_type": "code",
   "execution_count": 30,
   "metadata": {
    "collapsed": false
   },
   "outputs": [
    {
     "name": "stdout",
     "output_type": "stream",
     "text": [
      "[4 9 6 ..., 2 4 4]\n",
      "Before reshape:  (220000, 28, 28)\n",
      "After reshape:  (220000, 784)\n",
      "(784,)\n",
      "(784, 220000)\n",
      "Shape after cleaning dataset:  (204895, 28, 28)\n",
      "Removed from dataset:  15105\n",
      "Shape after cleaning labels:  (204895,)\n",
      "Removed from labels:  15105\n"
     ]
    }
   ],
   "source": [
    "pickle_file = os.path.join('.', 'notMNIST.pickle')\n",
    "\n",
    "try:\n",
    "    #Read pickle file\n",
    "    f = open(pickle_file, 'rb')\n",
    "    unpickled_data = pickle.load(f)\n",
    "     \n",
    "except Exception as e:\n",
    "  print('Unable to read data to', pickle_file, ':', e)\n",
    "  raise\n",
    "\n",
    "# Just print some labels to make sure the data is ok\n",
    "print(unpickled_data['train_labels'])\n",
    "\n",
    "# Get datasets from pickle file\n",
    "train_dataset = unpickled_data['train_dataset']\n",
    "valid_dataset = unpickled_data['valid_dataset']\n",
    "test_dataset  = unpickled_data['test_dataset']\n",
    "train_labels  = unpickled_data['train_labels']\n",
    "valid_labels  = unpickled_data['valid_labels']\n",
    "test_labels   = unpickled_data['test_labels']\n",
    "\n",
    "# Concat datasets \n",
    "full_dataset = np.concatenate((train_dataset, valid_dataset))\n",
    "full_dataset = np.concatenate((full_dataset, test_dataset))\n",
    "full_labels = np.concatenate((train_labels, valid_labels))\n",
    "full_labels = np.concatenate((full_labels, test_labels))\n",
    "\n",
    "# Shape into one dimension as required for lexsort\n",
    "print('Before reshape: ', full_dataset.shape)\n",
    "dataset_2d = full_dataset.reshape(full_dataset.shape[0],-1)\n",
    "print('After reshape: ', dataset_2d.shape)\n",
    "print(dataset_2d[0].shape)\n",
    "print(dataset_2d.T.shape)\n",
    "\n",
    "# Group same images together and then remove duplicates.\n",
    "# This approach is faster because it doesnt need to loop i x j times through all datasets\n",
    "sortidx = np.lexsort(dataset_2d.T)\n",
    "clean_dataset = full_dataset[sortidx][np.append(True,(np.diff(dataset_2d[sortidx],axis=0)!=0).any(1))]\n",
    "clean_labels = full_labels[sortidx][np.append(True,(np.diff(dataset_2d[sortidx],axis=0)!=0).any(1))]\n",
    "print('Shape after cleaning dataset: ', clean_dataset.shape)\n",
    "print('Removed from dataset: ', full_dataset.shape[0] - clean_dataset.shape[0])\n",
    "print('Shape after cleaning labels: ', clean_labels.shape)\n",
    "print('Removed from labels: ', full_labels.shape[0] - clean_labels.shape[0])\n"
   ]
  },
  {
   "cell_type": "markdown",
   "metadata": {},
   "source": [
    "Now we don't have duplicates, let's randomize, split again and create a 2nd non duplicate pickle."
   ]
  },
  {
   "cell_type": "code",
   "execution_count": 1,
   "metadata": {
    "collapsed": false
   },
   "outputs": [
    {
     "ename": "NameError",
     "evalue": "name 'clean_labels' is not defined",
     "output_type": "error",
     "traceback": [
      "\u001b[0;31m---------------------------------------------------------------------------\u001b[0m",
      "\u001b[0;31mNameError\u001b[0m                                 Traceback (most recent call last)",
      "\u001b[0;32m<ipython-input-1-90c68c28aa77>\u001b[0m in \u001b[0;36m<module>\u001b[0;34m()\u001b[0m\n\u001b[1;32m      1\u001b[0m \u001b[0;31m#Randomize full data again\u001b[0m\u001b[0;34m\u001b[0m\u001b[0;34m\u001b[0m\u001b[0m\n\u001b[0;32m----> 2\u001b[0;31m \u001b[0mprint\u001b[0m\u001b[0;34m(\u001b[0m\u001b[0mclean_labels\u001b[0m\u001b[0;34m)\u001b[0m\u001b[0;34m\u001b[0m\u001b[0m\n\u001b[0m\u001b[1;32m      3\u001b[0m \u001b[0mclean_dataset\u001b[0m\u001b[0;34m,\u001b[0m \u001b[0mclean_labels\u001b[0m \u001b[0;34m=\u001b[0m \u001b[0mrandomize\u001b[0m\u001b[0;34m(\u001b[0m\u001b[0mclean_dataset\u001b[0m\u001b[0;34m,\u001b[0m \u001b[0mclean_labels\u001b[0m\u001b[0;34m)\u001b[0m\u001b[0;34m\u001b[0m\u001b[0m\n\u001b[1;32m      4\u001b[0m \u001b[0mprint\u001b[0m\u001b[0;34m(\u001b[0m\u001b[0mclean_labels\u001b[0m\u001b[0;34m)\u001b[0m\u001b[0;34m\u001b[0m\u001b[0m\n\u001b[1;32m      5\u001b[0m \u001b[0;34m\u001b[0m\u001b[0m\n",
      "\u001b[0;31mNameError\u001b[0m: name 'clean_labels' is not defined"
     ]
    }
   ],
   "source": [
    "#Randomize full data again\n",
    "print(clean_labels)\n",
    "clean_dataset, clean_labels = randomize(clean_dataset, clean_labels)\n",
    "print(clean_labels)\n",
    "\n",
    "#Make sure labels and data are still aligned\n",
    "for x in range(0, 10):\n",
    "    #print(train_labels)\n",
    "    indexes = np.where(clean_labels==x)\n",
    "    print('First '+ str(x) + ' found at ' + str(indexes[0][0]))\n",
    "    sample_image = clean_dataset[indexes[0][0], :, :]\n",
    "    plt.figure()\n",
    "    plt.imshow(sample_image)  # display it\n",
    "\n",
    "\n",
    "#Split and pickle\n",
    "test_ds_clean = clean_dataset[0:10000]\n",
    "test_lb_clean = clean_labels[0:10000]\n",
    "print('test_ds_clean.shape: ', test_ds_clean.shape)\n",
    "print('test_lb_clean.shape: ', test_lb_clean.shape)\n",
    "\n",
    "valid_ds_clean = clean_dataset[10000:20000]\n",
    "valid_lb_clean = clean_labels[10000:20000]\n",
    "print('valid_ds_clean.shape: ', valid_ds_clean.shape)\n",
    "print('valid_lb_clean.shape: ', valid_lb_clean.shape)\n",
    "\n",
    "train_ds_clean = clean_dataset[20000:300000]\n",
    "train_lb_clean = clean_labels[20000:300000]\n",
    "print('train_ds_clean.shape: ', train_ds_clean.shape)\n",
    "print('train_lb_clean.shape: ', train_lb_clean.shape)\n",
    "\n",
    "\n",
    "pickle_file = os.path.join(data_root, 'notMNIST_clean.pickle')\n",
    "\n",
    "try:\n",
    "  f = open(pickle_file, 'wb')\n",
    "  save = {\n",
    "    'train_ds_clean': train_ds_clean,\n",
    "    'train_lb_clean': train_lb_clean,\n",
    "    'valid_ds_clean': valid_ds_clean,\n",
    "    'valid_lb_clean': valid_lb_clean,\n",
    "    'test_ds_clean': test_ds_clean,\n",
    "    'test_lb_clean': test_lb_clean,\n",
    "    }\n",
    "  pickle.dump(save, f, pickle.HIGHEST_PROTOCOL)\n",
    "  f.close()\n",
    "except Exception as e:\n",
    "  print('Unable to save data to', pickle_file, ':', e)\n",
    "  raise\n",
    "\n",
    "statinfo = os.stat(pickle_file)\n",
    "print('Compressed pickle size:', statinfo.st_size)\n",
    "    \n",
    "    \n"
   ]
  },
  {
   "cell_type": "markdown",
   "metadata": {},
   "source": [
    "Now we can use the pickle file above when a sanitized version of our dataset is needed (as per the optional question).\n",
    "\n",
    "For near duplicates, let's mess around with the np.diff function:"
   ]
  },
  {
   "cell_type": "code",
   "execution_count": 73,
   "metadata": {
    "collapsed": false
   },
   "outputs": [
    {
     "name": "stdout",
     "output_type": "stream",
     "text": [
      "Shape is  (3, 28, 28)\n",
      "(3,)\n",
      "[ 364.80783224  369.98823643  317.76078558]\n"
     ]
    }
   ],
   "source": [
    "#Get our clean dataset and compare the first 3 images:\n",
    "diff = np.diff(train_ds_clean[0:4], axis=0)\n",
    "print('Shape is ', diff.shape)\n",
    "diff = np.absolute(diff)\n",
    "diff_sums = np.asarray(list(map(sum, diff)))\n",
    "diff_sums = np.asarray(list(map(sum, diff_sums)))\n",
    "print(diff_sums.shape)\n",
    "print(diff_sums)\n",
    "#print('Zip is', zipped) \n",
    "#print('Abs Diff is', np.absolute(diff).sum(axis= 0))\n",
    "#print(diff)"
   ]
  },
  {
   "cell_type": "markdown",
   "metadata": {
    "collapsed": true
   },
   "source": [
    "Problem 6\n",
    "=====\n",
    "\n",
    "Let's get an idea of what an off-the-shelf classifier can give you on this data. It's always good to check that there is something to learn, and that it's a problem that is not so trivial that a canned solution solves it.\n",
    "\n",
    "Train a simple model on this data using 50, 100, 1000 and 5000 training samples. Hint: you can use the LogisticRegression model from sklearn.linear_model.\n",
    "\n",
    "Optional question: train an off-the-shelf model on all the data!"
   ]
  },
  {
   "cell_type": "code",
   "execution_count": 31,
   "metadata": {
    "collapsed": false
   },
   "outputs": [
    {
     "name": "stdout",
     "output_type": "stream",
     "text": [
      "New shape (train_dataset):  (20000, 784)\n",
      "New shape (train_labels):  (20000,)\n",
      "New shape (test_dataset):  (10000, 784)\n"
     ]
    }
   ],
   "source": [
    "# Import the sklearn library\n",
    "from sklearn.linear_model import LogisticRegression\n",
    "\n",
    "#Reshape the data\n",
    "sample_size = 20000\n",
    "train_dataset = train_dataset[0:sample_size]\n",
    "train_labels = train_labels[0:sample_size]\n",
    "\n",
    "train_dataset = train_dataset.reshape(train_dataset.shape[0],-1)\n",
    "test_dataset = test_dataset.reshape(test_dataset.shape[0],-1)\n",
    "\n",
    "print('New shape (train_dataset): ', train_dataset.shape)\n",
    "print('New shape (train_labels): ', train_labels.shape)\n",
    "print('New shape (test_dataset): ', test_dataset.shape)\n",
    "\n",
    "\n",
    "\n"
   ]
  },
  {
   "cell_type": "markdown",
   "metadata": {
    "collapsed": true
   },
   "source": [
    "The lines below will actually call the LogisticRegression class to train the model and then show the results"
   ]
  },
  {
   "cell_type": "code",
   "execution_count": 32,
   "metadata": {
    "collapsed": false
   },
   "outputs": [
    {
     "name": "stdout",
     "output_type": "stream",
     "text": [
      "[[870  10   4  11   9   9  13  34  16  24]\n",
      " [ 12 866   5  32  21  12  22  11  13   6]\n",
      " [  7   5 922   1  23   6  13   8   8   7]\n",
      " [ 12  16   3 907   8  13   5   8   8  20]\n",
      " [  8  35  49   8 807  26  16  12  28  11]\n",
      " [ 12   8   7   7   7 898  12  10  16  23]\n",
      " [ 10   7  40  10  17  11 858   9  21  17]\n",
      " [ 31  18   7   8  26  22  13 833  24  18]\n",
      " [ 16   4   8   8  15  16  19  17 846  51]\n",
      " [ 14   2  10   8   6  21   9   4  33 893]]\n"
     ]
    }
   ],
   "source": [
    "# fit the model\n",
    "classifier = LogisticRegression(random_state = 0)\n",
    "classifier.fit(train_dataset, train_labels)\n",
    "\n",
    "# Predicting the Test set results\n",
    "predicted_labels = classifier.predict(test_dataset)\n",
    "\n",
    "# Making the Confusion Matrix\n",
    "from sklearn.metrics import confusion_matrix\n",
    "cm = confusion_matrix(test_labels, predicted_labels)\n",
    "print(cm)"
   ]
  },
  {
   "cell_type": "code",
   "execution_count": null,
   "metadata": {
    "collapsed": true
   },
   "outputs": [],
   "source": []
  }
 ],
 "metadata": {
  "kernelspec": {
   "display_name": "Python 3",
   "language": "python",
   "name": "python3"
  },
  "language_info": {
   "codemirror_mode": {
    "name": "ipython",
    "version": 3
   },
   "file_extension": ".py",
   "mimetype": "text/x-python",
   "name": "python",
   "nbconvert_exporter": "python",
   "pygments_lexer": "ipython3",
   "version": "3.6.0"
  }
 },
 "nbformat": 4,
 "nbformat_minor": 2
}
